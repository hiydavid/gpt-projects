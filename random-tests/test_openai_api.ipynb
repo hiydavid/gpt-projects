{
 "cells": [
  {
   "cell_type": "code",
   "execution_count": 1,
   "metadata": {},
   "outputs": [],
   "source": [
    "# load libs\n",
    "import os\n",
    "import openai\n",
    "import textwrap\n",
    "from dotenv import load_dotenv\n",
    "\n",
    "load_dotenv()\n",
    "\n",
    "openai.api_key = os.getenv(\"API_KEY\")\n",
    "openai.organization = os.getenv(\"ORG_ID\")"
   ]
  },
  {
   "cell_type": "code",
   "execution_count": 2,
   "metadata": {},
   "outputs": [],
   "source": [
    "# write prompt\n",
    "P = \"\"\"\n",
    "    In no more than 4 sentences, describe what is \"gentle parenting\".\n",
    "    \"\"\""
   ]
  },
  {
   "attachments": {},
   "cell_type": "markdown",
   "metadata": {},
   "source": [
    "# Text Completion"
   ]
  },
  {
   "cell_type": "code",
   "execution_count": 7,
   "metadata": {},
   "outputs": [],
   "source": [
    "# get response\n",
    "response = openai.Completion.create(\n",
    "    engine=\"text-davinci-003\",\n",
    "    prompt=P,\n",
    "    max_tokens=100,\n",
    "    n=1,\n",
    "    stop=None,\n",
    "    temperature=0.1,\n",
    ")"
   ]
  },
  {
   "cell_type": "code",
   "execution_count": 8,
   "metadata": {},
   "outputs": [
    {
     "name": "stdout",
     "output_type": "stream",
     "text": [
      "Gentle parenting is an approach to raising children that emphasizes\n",
      "understanding, empathy, and respect. It encourages positive\n",
      "reinforcement and discourages harsh punishments, instead focusing on\n",
      "building strong relationships and teaching children how to make good\n",
      "decisions. It is based on the idea that children should be treated\n",
      "with kindness and compassion.\n"
     ]
    }
   ],
   "source": [
    "# get and print\n",
    "generated_text = response.choices[0].text.strip()\n",
    "wrapped_text = textwrap.fill(generated_text, width=70) \n",
    "\n",
    "print(wrapped_text)"
   ]
  },
  {
   "attachments": {},
   "cell_type": "markdown",
   "metadata": {},
   "source": [
    "# Chat Completion"
   ]
  },
  {
   "cell_type": "code",
   "execution_count": 9,
   "metadata": {},
   "outputs": [],
   "source": [
    "# use chat completion\n",
    "response_chat = openai.ChatCompletion.create(\n",
    "    model=\"gpt-3.5-turbo\",\n",
    "    messages=[\n",
    "        {\"role\": \"system\", \"content\": \"You are an expert in child psycology and gentle parenting methodology.\"},\n",
    "        {\"role\": \"user\", \"content\": f\"{P}\"},\n",
    "    ]\n",
    ")"
   ]
  },
  {
   "cell_type": "code",
   "execution_count": 30,
   "metadata": {},
   "outputs": [
    {
     "name": "stdout",
     "output_type": "stream",
     "text": [
      "Gentle parenting is an approach to raising children that emphasizes\n",
      "understanding, empathy, and respect. It encourages positive\n",
      "reinforcement and discourages harsh punishments, instead focusing on\n",
      "building strong relationships and teaching children how to make good\n",
      "decisions. It is based on the idea that children should be treated\n",
      "with kindness and compassion.\n"
     ]
    }
   ],
   "source": [
    "generated_chat = response_chat.choices[0][\"message\"][\"content\"]\n",
    "wrapped_chat = textwrap.fill(generated_text, width=70) \n",
    "\n",
    "print(wrapped_chat)"
   ]
  },
  {
   "cell_type": "code",
   "execution_count": null,
   "metadata": {},
   "outputs": [],
   "source": []
  }
 ],
 "metadata": {
  "kernelspec": {
   "display_name": "projenv",
   "language": "python",
   "name": "python3"
  },
  "language_info": {
   "codemirror_mode": {
    "name": "ipython",
    "version": 3
   },
   "file_extension": ".py",
   "mimetype": "text/x-python",
   "name": "python",
   "nbconvert_exporter": "python",
   "pygments_lexer": "ipython3",
   "version": "3.10.2"
  },
  "orig_nbformat": 4,
  "vscode": {
   "interpreter": {
    "hash": "0126e27fe55ec969de126c2cfdac2c99da69ebfdfbbeb83738b0925389a2d696"
   }
  }
 },
 "nbformat": 4,
 "nbformat_minor": 2
}
