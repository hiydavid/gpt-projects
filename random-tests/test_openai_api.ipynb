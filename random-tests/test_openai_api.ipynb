{
 "cells": [
  {
   "cell_type": "code",
   "execution_count": 1,
   "metadata": {},
   "outputs": [],
   "source": [
    "# load libs\n",
    "import os\n",
    "import openai\n",
    "import textwrap\n",
    "from dotenv import load_dotenv\n",
    "\n",
    "load_dotenv()\n",
    "\n",
    "openai.api_key = os.getenv(\"API_KEY\")\n",
    "openai.organization = os.getenv(\"ORG_ID\")"
   ]
  },
  {
   "cell_type": "code",
   "execution_count": 2,
   "metadata": {},
   "outputs": [],
   "source": [
    "# write prompt\n",
    "\n",
    "# P = \"\"\"\n",
    "#     In no more than 4 sentences, describe what is \"gentle parenting\".\n",
    "#     \"\"\"\n",
    "\n",
    "P = \"\"\" \n",
    "    My kid is screaming and doesn't want to eat dinner. What should I do?\n",
    "    \"\"\""
   ]
  },
  {
   "attachments": {},
   "cell_type": "markdown",
   "metadata": {},
   "source": [
    "# Text Completion"
   ]
  },
  {
   "cell_type": "code",
   "execution_count": 5,
   "metadata": {},
   "outputs": [],
   "source": [
    "# get response\n",
    "response = openai.Completion.create(\n",
    "    engine=\"text-davinci-003\",\n",
    "    prompt=P,\n",
    "    max_tokens=100,\n",
    "    n=1,\n",
    "    stop=None,\n",
    "    temperature=0.1,\n",
    ")"
   ]
  },
  {
   "cell_type": "code",
   "execution_count": 6,
   "metadata": {},
   "outputs": [
    {
     "name": "stdout",
     "output_type": "stream",
     "text": [
      "First, try to identify why your child is screaming and not wanting to\n",
      "eat dinner. Are they tired, overwhelmed, or anxious? If so, try to\n",
      "create a calm environment and provide reassurance. If they are still\n",
      "not interested in eating, try offering a variety of healthy snacks or\n",
      "meals that they may be more interested in. If they are still not\n",
      "interested, it may be best to wait until they are hungry and try again\n",
      "later.\n"
     ]
    }
   ],
   "source": [
    "# get and print\n",
    "generated_text = response.choices[0].text.strip()\n",
    "wrapped_text = textwrap.fill(generated_text, width=70) \n",
    "\n",
    "print(wrapped_text)"
   ]
  },
  {
   "attachments": {},
   "cell_type": "markdown",
   "metadata": {},
   "source": [
    "# Chat Completion"
   ]
  },
  {
   "cell_type": "code",
   "execution_count": 7,
   "metadata": {},
   "outputs": [],
   "source": [
    "# use chat completion\n",
    "response_chat = openai.ChatCompletion.create(\n",
    "    model=\"gpt-3.5-turbo\",\n",
    "    messages=[\n",
    "        {\"role\": \"system\", \"content\": \"You are an expert in child psycology and gentle parenting methodology.\"},\n",
    "        {\"role\": \"user\", \"content\": f\"{P}\"},\n",
    "    ]\n",
    ")"
   ]
  },
  {
   "cell_type": "code",
   "execution_count": 8,
   "metadata": {},
   "outputs": [
    {
     "name": "stdout",
     "output_type": "stream",
     "text": [
      "First and foremost, it is important to stay calm and approach the\n",
      "situation with empathy towards your child. Screaming and refusing to\n",
      "eat during meal times is a common behavior among young children, and\n",
      "it can be a sign of different things such as picky eating or a power\n",
      "struggle. Here are some tips that could help:  1. Offer choices:\n",
      "Giving your child choices can make them feel more in control and could\n",
      "help them feel more inclined to eat. You can offer them two or three\n",
      "meal options and let them choose what they want to eat.  2. Allow them\n",
      "to participate: Enlist their help in preparing the meal, setting the\n",
      "table, or choosing the menu. When children are involved in meal\n",
      "preparation, they are more likely to try new foods and eat what is\n",
      "presented to them.  3. Avoid distractions: Turn off the TV or phone\n",
      "and make sure your child is focused on the meal. Make sure the\n",
      "mealtime environment is calm and relaxed.  4. Use positive\n",
      "reinforcement: Praising your child when they try new foods or finish\n",
      "their meal can be very effective. A little bit of positive attention\n",
      "can go a long way in promoting good mealtime behavior.  5. Respect\n",
      "their appetite: Respect your child's appetite and offer them a\n",
      "reasonable portion size. Forcing them to eat more than they want may\n",
      "lead to negative associations with mealtime.  Remember, every child is\n",
      "unique, and what works well for one child may not work for another.\n",
      "Keep trying different approaches until you find what works best for\n",
      "your child.\n"
     ]
    }
   ],
   "source": [
    "generated_chat = response_chat.choices[0][\"message\"][\"content\"]\n",
    "wrapped_chat = textwrap.fill(generated_chat, width=70) \n",
    "\n",
    "print(wrapped_chat)"
   ]
  },
  {
   "cell_type": "code",
   "execution_count": null,
   "metadata": {},
   "outputs": [],
   "source": []
  }
 ],
 "metadata": {
  "kernelspec": {
   "display_name": "projenv",
   "language": "python",
   "name": "python3"
  },
  "language_info": {
   "codemirror_mode": {
    "name": "ipython",
    "version": 3
   },
   "file_extension": ".py",
   "mimetype": "text/x-python",
   "name": "python",
   "nbconvert_exporter": "python",
   "pygments_lexer": "ipython3",
   "version": "3.10.2"
  },
  "orig_nbformat": 4,
  "vscode": {
   "interpreter": {
    "hash": "0126e27fe55ec969de126c2cfdac2c99da69ebfdfbbeb83738b0925389a2d696"
   }
  }
 },
 "nbformat": 4,
 "nbformat_minor": 2
}
