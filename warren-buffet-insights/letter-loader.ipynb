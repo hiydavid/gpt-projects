{
 "cells": [
  {
   "cell_type": "code",
   "execution_count": 5,
   "metadata": {},
   "outputs": [
    {
     "data": {
      "text/plain": [
       "False"
      ]
     },
     "execution_count": 5,
     "metadata": {},
     "output_type": "execute_result"
    }
   ],
   "source": [
    "# get libs\n",
    "import os\n",
    "import requests\n",
    "from bs4 import BeautifulSoup\n",
    "import webtranspose as webt\n",
    "import openai\n",
    "from dotenv import load_dotenv, find_dotenv\n",
    "load_dotenv(find_dotenv())"
   ]
  },
  {
   "cell_type": "code",
   "execution_count": 9,
   "metadata": {},
   "outputs": [],
   "source": [
    "# define the directory where the .txt files are located\n",
    "txt_files_dir = os.getcwd()\n",
    "\n",
    "# get a list of all .txt files in the directory\n",
    "txt_files = [f for f in os.listdir(txt_files_dir) if f.endswith('.txt')]\n",
    "\n",
    "# initialize an empty string to hold the concatenated text\n",
    "concatenated_text = ' '\n",
    "\n",
    "for txt_file in txt_files:\n",
    "    year = txt_file.split('.')[0]\n",
    "    concatenated_text += f\"\\n\\n--------------- Start of {year} Letter ---------------\\n\\n\"\n",
    "    with open(os.path.join(txt_files_dir, txt_file), 'r') as file:\n",
    "        concatenated_text += file.read()\n",
    "\n",
    "# save\n",
    "with open('1977_1997.txt', 'w') as file:\n",
    "    file.write(concatenated_text)"
   ]
  },
  {
   "cell_type": "code",
   "execution_count": 1,
   "metadata": {},
   "outputs": [],
   "source": [
    "# # craw on website\n",
    "# crawl = webt.Crawl(\n",
    "#     'https://www.berkshirehathaway.com/letters/letters.html',\n",
    "#     max_pages=300,\n",
    "#     render_js=False,\n",
    "# )\n",
    "\n",
    "# crawl = await crawl.crawl()\n",
    "# crawl.download()"
   ]
  },
  {
   "cell_type": "code",
   "execution_count": null,
   "metadata": {},
   "outputs": [],
   "source": []
  }
 ],
 "metadata": {
  "kernelspec": {
   "display_name": "gptenv",
   "language": "python",
   "name": "python3"
  },
  "language_info": {
   "codemirror_mode": {
    "name": "ipython",
    "version": 3
   },
   "file_extension": ".py",
   "mimetype": "text/x-python",
   "name": "python",
   "nbconvert_exporter": "python",
   "pygments_lexer": "ipython3",
   "version": "3.10.2"
  }
 },
 "nbformat": 4,
 "nbformat_minor": 2
}
