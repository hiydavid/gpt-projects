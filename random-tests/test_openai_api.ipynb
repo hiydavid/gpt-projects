{
 "cells": [
  {
   "cell_type": "code",
   "execution_count": 10,
   "metadata": {},
   "outputs": [],
   "source": [
    "# load libs\n",
    "import os\n",
    "import openai\n",
    "import textwrap\n",
    "from dotenv import load_dotenv\n",
    "\n",
    "load_dotenv()\n",
    "\n",
    "openai.api_key = os.getenv(\"API_KEY\")\n",
    "openai.organization = os.getenv(\"ORG_ID\")"
   ]
  },
  {
   "cell_type": "code",
   "execution_count": 7,
   "metadata": {},
   "outputs": [],
   "source": [
    "# write prompt\n",
    "P = \"\"\"\n",
    "    In no more than 4 sentences, describe what is \"gentle parenting\".\n",
    "    \"\"\""
   ]
  },
  {
   "cell_type": "code",
   "execution_count": 8,
   "metadata": {},
   "outputs": [],
   "source": [
    "# get response\n",
    "response = openai.Completion.create(\n",
    "    engine=\"text-davinci-003\",\n",
    "    prompt=P,\n",
    "    max_tokens=100,\n",
    "    n=1,\n",
    "    stop=None,\n",
    "    temperature=0.8,\n",
    ")"
   ]
  },
  {
   "cell_type": "code",
   "execution_count": 11,
   "metadata": {},
   "outputs": [
    {
     "name": "stdout",
     "output_type": "stream",
     "text": [
      "Gentle parenting is a parenting style focused on creating a strong\n",
      "bond with children through respect, empathy, and understanding. It is\n",
      "an approach that works to guide rather than control children and to\n",
      "help them develop self-discipline, problem-solving skills, and\n",
      "resilience. Gentle parenting emphasizes listening to children's needs\n",
      "and helping them learn from their mistakes.\n"
     ]
    }
   ],
   "source": [
    "# get and print\n",
    "generated_text = response.choices[0].text.strip()\n",
    "wrapped_text = textwrap.fill(generated_text, width=70) \n",
    "\n",
    "print(wrapped_text)"
   ]
  },
  {
   "cell_type": "code",
   "execution_count": null,
   "metadata": {},
   "outputs": [],
   "source": []
  }
 ],
 "metadata": {
  "kernelspec": {
   "display_name": "projenv",
   "language": "python",
   "name": "python3"
  },
  "language_info": {
   "codemirror_mode": {
    "name": "ipython",
    "version": 3
   },
   "file_extension": ".py",
   "mimetype": "text/x-python",
   "name": "python",
   "nbconvert_exporter": "python",
   "pygments_lexer": "ipython3",
   "version": "3.10.2"
  },
  "orig_nbformat": 4,
  "vscode": {
   "interpreter": {
    "hash": "0126e27fe55ec969de126c2cfdac2c99da69ebfdfbbeb83738b0925389a2d696"
   }
  }
 },
 "nbformat": 4,
 "nbformat_minor": 2
}
