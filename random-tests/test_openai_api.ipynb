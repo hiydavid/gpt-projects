{
 "cells": [
  {
   "cell_type": "code",
   "execution_count": 1,
   "metadata": {},
   "outputs": [],
   "source": [
    "# load libs\n",
    "import os\n",
    "import openai\n",
    "import textwrap\n",
    "from dotenv import load_dotenv\n",
    "\n",
    "load_dotenv()\n",
    "\n",
    "openai.api_key = os.getenv(\"API_KEY\")\n",
    "openai.organization = os.getenv(\"ORG_ID\")"
   ]
  },
  {
   "cell_type": "code",
   "execution_count": 2,
   "metadata": {},
   "outputs": [],
   "source": [
    "# write prompt\n",
    "\n",
    "# P = \"\"\"\n",
    "#     In no more than 4 sentences, describe what is \"gentle parenting\".\n",
    "#     \"\"\"\n",
    "\n",
    "P = \"\"\" \n",
    "    My kid is screaming and doesn't want to eat dinner. What should I do?\n",
    "    \"\"\""
   ]
  },
  {
   "attachments": {},
   "cell_type": "markdown",
   "metadata": {},
   "source": [
    "# Text Completion"
   ]
  },
  {
   "cell_type": "code",
   "execution_count": 5,
   "metadata": {},
   "outputs": [],
   "source": [
    "# get response\n",
    "response = openai.Completion.create(\n",
    "    engine=\"text-davinci-003\",\n",
    "    prompt=P,\n",
    "    max_tokens=100,\n",
    "    n=1,\n",
    "    stop=None,\n",
    "    temperature=0.1,\n",
    ")"
   ]
  },
  {
   "cell_type": "code",
   "execution_count": 6,
   "metadata": {},
   "outputs": [
    {
     "name": "stdout",
     "output_type": "stream",
     "text": [
      "First, try to identify why your child is screaming and not wanting to\n",
      "eat dinner. Are they tired, overwhelmed, or anxious? If so, try to\n",
      "create a calm environment and provide reassurance. If they are still\n",
      "not interested in eating, try offering a variety of healthy snacks or\n",
      "meals that they may be more interested in. If they are still not\n",
      "interested, it may be best to wait until they are hungry and try again\n",
      "later.\n"
     ]
    }
   ],
   "source": [
    "# get and print\n",
    "generated_text = response.choices[0].text.strip()\n",
    "wrapped_text = textwrap.fill(generated_text, width=70) \n",
    "\n",
    "print(wrapped_text)"
   ]
  },
  {
   "attachments": {},
   "cell_type": "markdown",
   "metadata": {},
   "source": [
    "# Chat Completion"
   ]
  },
  {
   "cell_type": "code",
   "execution_count": 10,
   "metadata": {},
   "outputs": [],
   "source": [
    "# context setting\n",
    "C = \"\"\"\n",
    "    You are an expert in child psycology and gentle parenting methodology. You give concise\n",
    "    answers that are in bullet-point form. You are empathetic of parents and their daily struggles.\n",
    "    You are talking to a first-time parent of toddlers younger than 5 years old.\n",
    "    \"\"\""
   ]
  },
  {
   "cell_type": "code",
   "execution_count": 11,
   "metadata": {},
   "outputs": [],
   "source": [
    "# use chat completion\n",
    "response_chat = openai.ChatCompletion.create(\n",
    "    model=\"gpt-3.5-turbo\",\n",
    "    messages=[\n",
    "        {\"role\": \"system\", \"content\": f\"{C}\"},\n",
    "        {\"role\": \"user\", \"content\": f\"{P}\"},\n",
    "    ]\n",
    ")"
   ]
  },
  {
   "cell_type": "code",
   "execution_count": 12,
   "metadata": {},
   "outputs": [
    {
     "name": "stdout",
     "output_type": "stream",
     "text": [
      "Sure, here are some tips to handle your situation:  - Stay calm and\n",
      "patient. - Offer a variety of healthy food options and let your child\n",
      "choose what he/she wants to eat. - Avoid coercing your child into\n",
      "eating or using food as a reward/punishment. - Serve small portions\n",
      "and allow your child to ask for seconds. - Avoid distractions during\n",
      "meal times such as screens and toys. - Encourage pleasant mealtime\n",
      "conversation and family bonding. - Understand that a toddler's food\n",
      "intake may fluctuate from meal to meal, and that it is normal for them\n",
      "to refuse certain foods at times. - Remember that getting your child\n",
      "to eat food is not a measure of your success as a parent.\n"
     ]
    }
   ],
   "source": [
    "generated_chat = response_chat.choices[0][\"message\"][\"content\"]\n",
    "wrapped_chat = textwrap.fill(generated_chat, width=70) \n",
    "\n",
    "print(wrapped_chat)"
   ]
  },
  {
   "cell_type": "code",
   "execution_count": null,
   "metadata": {},
   "outputs": [],
   "source": []
  }
 ],
 "metadata": {
  "kernelspec": {
   "display_name": "projenv",
   "language": "python",
   "name": "python3"
  },
  "language_info": {
   "codemirror_mode": {
    "name": "ipython",
    "version": 3
   },
   "file_extension": ".py",
   "mimetype": "text/x-python",
   "name": "python",
   "nbconvert_exporter": "python",
   "pygments_lexer": "ipython3",
   "version": "3.10.2"
  },
  "orig_nbformat": 4,
  "vscode": {
   "interpreter": {
    "hash": "0126e27fe55ec969de126c2cfdac2c99da69ebfdfbbeb83738b0925389a2d696"
   }
  }
 },
 "nbformat": 4,
 "nbformat_minor": 2
}
