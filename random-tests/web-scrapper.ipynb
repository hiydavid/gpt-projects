{
 "cells": [
  {
   "cell_type": "code",
   "execution_count": 1,
   "metadata": {},
   "outputs": [
    {
     "data": {
      "text/plain": [
       "True"
      ]
     },
     "execution_count": 1,
     "metadata": {},
     "output_type": "execute_result"
    }
   ],
   "source": [
    "# get libs\n",
    "import os\n",
    "import requests\n",
    "from bs4 import BeautifulSoup\n",
    "import openai\n",
    "from dotenv import load_dotenv, find_dotenv\n",
    "load_dotenv(find_dotenv())"
   ]
  },
  {
   "cell_type": "code",
   "execution_count": 2,
   "metadata": {},
   "outputs": [],
   "source": [
    "# set url\n",
    "url = \"https://www.butterbeready.com/seafood-boil-with-garlic-butter-sauce/\""
   ]
  },
  {
   "cell_type": "code",
   "execution_count": 3,
   "metadata": {},
   "outputs": [
    {
     "name": "stdout",
     "output_type": "stream",
     "text": [
      "Status code: 200\n"
     ]
    }
   ],
   "source": [
    "# get texts\n",
    "headers = {\n",
    "    'User-Agent': 'Mozilla/5.0 (Windows NT 10.0; Win64; x64) AppleWebKit/537.36 (KHTML, like Gecko) Chrome/58.0.3029.110 Safari/537.3'\n",
    "}\n",
    "response = requests.get(url, headers=headers)\n",
    "if response.status_code == 200:\n",
    "    soup = BeautifulSoup(response.content, 'html.parser')\n",
    "    paragraphs = soup.find_all('p')\n",
    "    print(f\"Status code: {response.status_code}\")\n",
    "else:\n",
    "    print(f\"Failed to retrieve the webpage. Status code: {response.status_code}\")"
   ]
  },
  {
   "cell_type": "code",
   "execution_count": 4,
   "metadata": {},
   "outputs": [],
   "source": [
    "# extract and print the text from each paragraph\n",
    "texts_from_url = []\n",
    "\n",
    "for p in paragraphs:\n",
    "    texts_from_url.append(p.get_text())"
   ]
  },
  {
   "cell_type": "code",
   "execution_count": 19,
   "metadata": {},
   "outputs": [],
   "source": [
    "# flatten\n",
    "flatten_texts_from_url = ' '.join(texts_from_url)"
   ]
  },
  {
   "cell_type": "code",
   "execution_count": 5,
   "metadata": {},
   "outputs": [],
   "source": [
    "# instantiate openai client\n",
    "client = openai.OpenAI(api_key=os.getenv(\"OPENAI_API_KEY\"))"
   ]
  },
  {
   "cell_type": "code",
   "execution_count": 38,
   "metadata": {},
   "outputs": [
    {
     "name": "stdout",
     "output_type": "stream",
     "text": [
      "Assistant(id='asst_1VheFuNiBaFWHIuP3gBQAkPp', created_at=1699510971, description=None, file_ids=[], instructions='You are a helpful recipe summarizer. The user will give you raw texts taken from a recipe website, and you will analyze the texts and succinctly extract the recipe information, including ingredients and steps, presenting them in a clear and concise format.\\n\\nBe sure in your response to include measurements of each ingredient, so that the user knows how much each ingredient is needed.\\n\\nIgnore non recipe related texts, such as comments, picture captions, etc.\\n', metadata={}, model='gpt-4-1106-preview', name='Recipe Summarizer', object='assistant', tools=[])\n"
     ]
    }
   ],
   "source": [
    "# get recipe summarizer\n",
    "my_assistant = client.beta.assistants.retrieve(os.getenv(\"OPENAI_ASST_ID\"))\n",
    "print(my_assistant)"
   ]
  },
  {
   "cell_type": "code",
   "execution_count": 39,
   "metadata": {},
   "outputs": [
    {
     "name": "stdout",
     "output_type": "stream",
     "text": [
      "Thread(id='thread_pbL3l0Dt50V2GG3Yijre8qGA', created_at=1699513106, metadata={}, object='thread')\n"
     ]
    }
   ],
   "source": [
    "# start thread\n",
    "thread = client.beta.threads.create()\n",
    "print(thread)"
   ]
  },
  {
   "cell_type": "code",
   "execution_count": 41,
   "metadata": {},
   "outputs": [],
   "source": [
    "# send user message\n",
    "message = client.beta.threads.messages.create(\n",
    "    thread_id=thread.id,\n",
    "    role=\"user\",\n",
    "    content=f\"Raw recipe tex: ```{flatten_texts_from_url}```\"\n",
    ")"
   ]
  },
  {
   "cell_type": "code",
   "execution_count": 42,
   "metadata": {},
   "outputs": [],
   "source": [
    "# run assistant\n",
    "run = client.beta.threads.runs.create(\n",
    "  thread_id=thread.id,\n",
    "  assistant_id=my_assistant.id,\n",
    ")"
   ]
  },
  {
   "cell_type": "code",
   "execution_count": 46,
   "metadata": {},
   "outputs": [],
   "source": [
    "# check run\n",
    "run = client.beta.threads.runs.retrieve(\n",
    "  thread_id=thread.id,\n",
    "  run_id=run.id\n",
    ")"
   ]
  },
  {
   "cell_type": "code",
   "execution_count": 47,
   "metadata": {},
   "outputs": [],
   "source": [
    "# get response\n",
    "messages = client.beta.threads.messages.list(\n",
    "  thread_id=thread.id\n",
    ")"
   ]
  },
  {
   "cell_type": "code",
   "execution_count": 48,
   "metadata": {},
   "outputs": [
    {
     "name": "stdout",
     "output_type": "stream",
     "text": [
      "Response from assistant:\n",
      "Assistant: The provided text doesn't include the complete recipe details such as the specific ingredients and their measurements, nor the step-by-step instructions for preparing the Cajun Seafood Boil and the Garlic Butter Sauce. The text mostly consists of a description and commentary on the dish, with references to a detailed recipe card that is not included in the text.\n",
      "\n",
      "Based on the text, here's a basic summary of what the dish entails, but please note that the details such as ingredient quantities and cooking times are missing:\n",
      "\n",
      "Ingredients:\n",
      "- Jumbo shrimp\n",
      "- Crab (snow crab clusters or other varieties as preferred; ensure pre-cooked if applicable)\n",
      "- Andouille sausage\n",
      "- Potatoes\n",
      "- Eggs (hard-boiled)\n",
      "- Corn on the cob\n",
      "- Cajun spices\n",
      "- Aromatics\n",
      "- Beer (lagers, IPAs, or pilsners) or a substitute if preferred\n",
      "- Garlic Butter Sauce (details not provided)\n",
      "\n",
      "Steps:\n",
      "1. Combine the seafood, sausage, potatoes, corn, and eggs with the Cajun spices and aromatics in a flavorful broth, optionally featuring beer.\n",
      "2. Simmer the mixture until the ingredients are cooked, noting that various types of seafood have different cooking times.\n",
      "3. Prepare the garlic butter sauce (details not provided).\n",
      "4. Once the boil is done, serve by pouring the mixture onto a newspaper-lined table or a large baking sheet/platter.\n",
      "5. Smother the contents with the garlic butter sauce.\n",
      "6. Enjoy the meal by having everyone grab what they desire from the boil.\n",
      "\n",
      "For accurate preparation, you would need the full recipe with precise ingredient measurements and cooking instructions. Unfortunately, that information is not available in the provided text.\n"
     ]
    }
   ],
   "source": [
    "# %% cell 13\n",
    "print(\"Response from assistant:\")\n",
    "last_assistant_message = None\n",
    "for message in messages.data:\n",
    "    if message.role == \"assistant\":\n",
    "        last_assistant_message = message\n",
    "\n",
    "if last_assistant_message:\n",
    "    print(f\"Assistant: {last_assistant_message.content[0].text.value}\")"
   ]
  },
  {
   "cell_type": "code",
   "execution_count": null,
   "metadata": {},
   "outputs": [],
   "source": []
  }
 ],
 "metadata": {
  "kernelspec": {
   "display_name": "gptenv",
   "language": "python",
   "name": "python3"
  },
  "language_info": {
   "codemirror_mode": {
    "name": "ipython",
    "version": 3
   },
   "file_extension": ".py",
   "mimetype": "text/x-python",
   "name": "python",
   "nbconvert_exporter": "python",
   "pygments_lexer": "ipython3",
   "version": "3.10.2"
  }
 },
 "nbformat": 4,
 "nbformat_minor": 2
}
