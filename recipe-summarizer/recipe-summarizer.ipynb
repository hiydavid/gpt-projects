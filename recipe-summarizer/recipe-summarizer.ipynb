{
 "cells": [
  {
   "cell_type": "code",
   "execution_count": 1,
   "metadata": {},
   "outputs": [
    {
     "data": {
      "text/plain": [
       "True"
      ]
     },
     "execution_count": 1,
     "metadata": {},
     "output_type": "execute_result"
    }
   ],
   "source": [
    "# get libs\n",
    "import os\n",
    "import requests\n",
    "from bs4 import BeautifulSoup\n",
    "import openai\n",
    "from dotenv import load_dotenv, find_dotenv\n",
    "load_dotenv(find_dotenv())"
   ]
  },
  {
   "cell_type": "code",
   "execution_count": 3,
   "metadata": {},
   "outputs": [],
   "source": [
    "# set url\n",
    "url = \"https://www.butterbeready.com/seafood-boil-with-garlic-butter-sauce/\"\n",
    "# url = \"https://www.spendwithpennies.com/wprm_print/215236\"\n",
    "# url = \"https://www.butterbeready.com/seafood-boil-with-garlic-butter-sauce/print/41509/\""
   ]
  },
  {
   "cell_type": "code",
   "execution_count": 14,
   "metadata": {},
   "outputs": [
    {
     "name": "stdout",
     "output_type": "stream",
     "text": [
      "Status code: 200\n"
     ]
    }
   ],
   "source": [
    "# get texts\n",
    "headers = {\n",
    "    'User-Agent': 'Mozilla/5.0 (Windows NT 10.0; Win64; x64) AppleWebKit/537.36 (KHTML, like Gecko) Chrome/58.0.3029.110 Safari/537.3'\n",
    "}\n",
    "response = requests.get(url, headers=headers)\n",
    "if response.status_code == 200:\n",
    "    soup = BeautifulSoup(response.content, 'html.parser')\n",
    "    paragraphs = soup.find_all('p')\n",
    "    divs = soup.find_all('div', class_='tasty-recipes-entry-content')\n",
    "    print(f\"Status code: {response.status_code}\")\n",
    "else:\n",
    "    print(f\"Failed to retrieve the webpage. Status code: {response.status_code}\")"
   ]
  },
  {
   "cell_type": "code",
   "execution_count": 15,
   "metadata": {},
   "outputs": [],
   "source": [
    "# extract and print the text from each paragraph\n",
    "texts_from_url = []\n",
    "\n",
    "for p in paragraphs:\n",
    "    texts_from_url.append(p.get_text())\n",
    "\n",
    "for d in divs:\n",
    "    texts_from_url.append(d.get_text())"
   ]
  },
  {
   "cell_type": "code",
   "execution_count": 16,
   "metadata": {},
   "outputs": [],
   "source": [
    "# flatten\n",
    "flatten_texts_from_url = ' '.join(texts_from_url)"
   ]
  },
  {
   "cell_type": "code",
   "execution_count": 17,
   "metadata": {},
   "outputs": [
    {
     "data": {
      "text/plain": [
       "\"This is the BEST Seafood Boil recipe you can whip up right at home, y’all. It’s loaded with jumbo shrimp, crab, andouille sausage, potatoes, eggs, and corn on the cob that’s simmered in a flavor-filled broth of cajun spices and aromatics. All that hearty goodness gets drowned and smothered in an epic garlic butter sauce. This finger-licking-good seafood boil recipe is an easy meal that serves a crowd! Mmmhmmm, seafood boils just cannot be beat, especially during these summer months. The delicious mess of seafood, sausage, potatoes, and corn all drenched in sauce and dripping from your fingertips…whew. The entire experience is so much fun and so dang good huh. Buckle up and let’s get into this recipe! This easy to make boil is brimming with all the meaty, hearty bites like andouille, shrimp, and crab. And then there’s filling elements like potatoes, corn, and hard-boiled eggs to amp up the fullness of it all. In my honest opinion, a seafood boil is questionable if it doesn’t include big flavor and spices- just keeping it real. You’ll love the heaps of flavor from Cajun seasoning and Old Bay spices all throughout: in the boil itself and in the luscious garlic butter sauce, swoon. ⇢ Whether it’s this miso shrimp scampi, my mahi mahi w/ butter sauce, or this dreamy, soul-hugging Cajun gumbo, I just love me some seafood dishes! ⇢ First, let’s discuss some main highlights that you’ll appreciate here: (Note: the full ingredients list, including measurements, is provided in the recipe card directly below.) Excellent question, let’s talk about. The key to a really phenomenal seafood boil is to make the liquid as flavorful as possible, friends. Without that deep penetrating flavor the ingredients will be bland and sad, oof. Beer is one of the elements that adds a little razzle dazzle to enhance the boil broth. In addition to the beer, plenty of spices and aromatics make the liquid sing in flavorful notes. However, if beer is not your thing, you can surely proceed without it, too. ⇢ I recommend using lagers, IPAs, or pilsners for choices of beer! 👍🏾 (Note: please see the recipe card directly below for the complete written instructions.) Here’s some extra tidbits & more information about this seafood boil recipe: The types of seafood called for in this recipe will guide you on a really good seafood boil session, but you can also deviate and customize it to your liking! My Cajun seafood boil calls for snow crab clusters and shrimp- more options such as mussels, clams, other crab varieties (king crab legs, Dungeness crab, etc.), crawfish, and lobster tails all work well in seafood boils. Just use about 2 – 2 ½ pounds of your favorite seafood in the boil (make sure the crab you select is pre-cooked!). You can use frozen seafood just fine in this recipe, too. ⇢ It’s important to note that not all seafood cooks at the same rate, let’s look into some cooking time frames for specific seafood: Seafood boils are traditionally served by emptying the ingredients onto a newspaper-lined table. Pour the buttery sauce over the goods and then everyone just goes after whatever they desire. It’s quite chaotic and fun in the very best way! Additionally, it makes the clean-up much easier. However, I like to serve it on an extra large baking sheet or platter. Everything is more contained and the garlic butter sauce doesn’t soak into the newspaper. Summer is here and this Cajun Seafood Boil needs to be enjoyed by you and all of your peeps, everyone’s gonna love! Be sure to tag @butterbeready in your BBR recipe creations, I sure love to see it when you do. Until next time! 🤟🏾 This is the BEST Seafood Boil recipe you can whip up right at home, y’all. It’s loaded with jumbo shrimp, crab, andouille sausage, potatoes, eggs, and corn on the cob that’s simmered in a flavor-filled broth of Cajun spices and aromatics. All that hearty goodness gets drowned and smothered in an epic garlic butter sauce. This finger-licking-good seafood boil recipe is an easy meal that serves a crowd! For the cajun seafood boil: For the garlic butter sauce: Keywords: seafood boil, garlic butter sauce, cajun seafood boil, crab and shrimp, andouille, best seafood boil, easy seafood boil Tag @butterbeready on Instagram and hashtag it #butterbeready \\noriginally published on Jun 24, 2023 (last updated Sep 18, 2023)  \\n 32 comments\\n\\nLeave a comment »\\n If you love this recipe, please consider giving it a star rating when you leave a comment. Star ratings help people discover my recipes online. Your support means a lot to me, I appreciate you. Your email address will not be published. Required fields are marked * Comment *  Name *  Email *   Save my name, email, and website in this browser for the next time I comment. Notify me if Quin replies to my comment  \\n\\n  Δ Just made this crab boil for my family.  This was soooo amazing.  Everyone loved the garlic butter sauce.  I have gone to resturants and paid lots for something that can be made at home.  I can not wait to try your other recipes. ★★★★★ Hey Cheryl- Love hearing this, so glad you and your family enjoyed this seafood boil recipe, thank you for leaving a review! 🙂 This was so delicious. My first attempt at a seafood boil and super happy I went with your recipe 🤤 ★★★★★ Hi Bri- Woot woot, I’m so glad you enjoyed this seafood boil, thanks for taking the time to leave this review! 🙂 Okkkkk, prob not going to another sea food boil restaurant after this recipe. \\xa0I could tell this was going to be great just smelling the butter sauce come together. \\xa0 Never had one of your recipes not be on point! ★★★★★ Hey Melissa- Lol yasss, love to hear it! Thanks for leaving this review, so happy to hear that you thoroughly enjoyed this seafood boil recipe! 🙂 Living in the PNW we have a crab 🦀 boil every other month. Tried this recipe and it was a huge hit with friends and family. This will now be the go to recipe from now on. Thank you.\\xa0 ★★★★★ Hey Jack- Woohoo, glad to hear you all loved this seafood boil recipe, thanks for this review! 🙂 This sounds delicious! \\xa0I can’t wait to try it. \\xa0This recipe will definitely going on my menu! \\xa0\\nWhen I cook this I will definitely report back to you! \\xa0This recipe looks so yummy and I will prepare it soon! \\xa0Thanks for sharing. ★★★★★ Just repaired this for my family and it was an absolute HIT…thank you so much for an amazing recipe x ★★★★★ Hey Claudette- Nice to hear, so glad you and your family enjoyed this seafood boil recipe, thanks for this review! 🙂 Excellent. Added cod filets along with the shrimp. ★★★★★ Hi Salvatore- Glad you enjoyed the recipe! 🙂 So excited to try this! \\xa0Will it mess with the recipe to add more seafood than called for and double the liquid and seasonings? Hi Julie- Sure thing, you can def add more seafood to the boil, just be sure that you use a big enough cooking vessel to accommodate the add-ins. And yes, doubling the liquid/seasoning will be needed! 🙂 This looks so amazing! I am making for my dad’s birthday and he doesn’t do so well with spice. Any suggestions on keeping the flavor but reducing the heat?\\xa0 Hey Jessica- Feel free to omit the hot sauce, use Cajun seasoning to preference, and sub andouille for kielbasa/beef sausage perhaps. Lmk if you try! 🙂 I love, love, love this!! First time make the seafood boil and I’m in haven!! Big hit with the family tonight!! ★★★★★ Hi Lizzie- Ayyyeee, honored to be the first seafood boil recipe you’ve tried, so glad you + the fam enjoyed! 🙂 Im in my early 20s and did this for my family as an end-of-summer treat! They all enjoyed it lots! We added extra shrimp and used an apple cider instead of beer. Absolutely delicious! Thank you! ★★★★★ I believe this is the very best recipe, it was well enjoyed by everyone that ate it ★★★★★ Hi Dave- If you said it, it must be true lol, so glad you enjoyed the recipe! 🙂 Hi! Wanting to make this for a group of 8 tonight. Thinking or just doubling the recipe. What size pot would you suggest for that? Hi Julia- I’d recommend a large pot that’s at least 8 quarts in size 🙂 I made this last night for a family gathering and it was nothing short of perfect. It disappeared from the pot and everyone raved. Definitely recommend the beer! ★★★★★ This was my first time making a seafood boil. It looked and tasted delicious  I did alter the recipe a little  like adding butter to the stock, using equal amounts of chicken  broth and water and I added  cheyenne pepper. ★★★★★ I am trying your Kasian seafood boil with garlic butter sauce. I will let you know how it comes out!\\xa0 ★★★★★ Very good recipe, easy to follow, readily available ingredients, clear instructions. Came out delicious! ★★★★★ Is there a way to prep/make this ahead of time? If so what’s the recommended way to heat it up? Hi Chris- I haven’t tested this recipe with a make-ahead approach because of it being a seafood boil, and I find the best results to be cooking on the day-of. Lmk if you try! 🙂 First time making a cajun boil as a French living in the U.S.\\nThank you for such an awesome recipe. It was super easy and straightforward to follow through. ★★★★★ Hey Johanna- Oh wow, I love to hear this, glad you enjoyed this boil! 🙂 This space is where I share my latest culinary adventures and love of photography. If I can inspire you along the way, even better. Pull up and let's eat! ©2023 Butter Be Ready. Design by Purr. Support by Foodie Digital. \\n\\nDescription\\n\\nThis is the BEST Seafood Boil recipe you can whip up right at home, y’all. It’s loaded with jumbo shrimp, crab, andouille sausage, potatoes, eggs, and corn on the cob that’s simmered in a flavor-filled broth of Cajun spices and aromatics. All that hearty goodness gets drowned and smothered in an epic garlic butter sauce. This finger-licking-good seafood boil recipe is an easy meal that serves a crowd!\\n\\n\\n\\n\\n\\nIngredients\\n\\n\\n\\nScale\\n1x2x3x \\n\\n\\n\\nFor the cajun seafood boil:\\n3 quarts water\\n1 (12-ounce) can of beer- optional but highly recommended\\n3 tablespoons Cajun seasoning\\n1 tablespoon Old Bay seasoning\\nHot sauce, to taste\\n1 medium yellow onion, roughly sliced into half-moons\\n1 large lemon, cut into wedges- plus more for serving\\n12 ounces andouille sausage, sliced into rounds\\n1 lb baby potatoes, red or gold (or a mix of both)\\n1 lb pre-cooked snow crab leg clusters, fresh or frozen\\n1 – 1 ½ lbs jumbo shrimp, shell-on or peeled\\n4–6 ears sweet corn on the cob, I use the mini ones\\n4–6 hard boiled eggs- optional\\nFor the garlic butter sauce:\\n1 cup (2 sticks) unsalted butter\\n10 cloves of garlic, finely minced or pressed\\n2 tablespoons lemon juice, freshly squeezed\\n1 tablespoon Old Bay seasoning\\n1 tablespoon fresh chopped parsley\\n1 teaspoon Cajun seasoning\\n1 teaspoon smoked paprika\\nHot sauce, to taste\\n\\n\\n\\n\\n\\n\\n\\nCook Mode\\n\\n\\t\\t\\t\\tPrevent your screen from going dark\\t\\t\\t\\n\\n\\n\\n\\n\\n\\nInstructions\\n\\n\\nPrepare the boil. In an extra large stockpot or dutch oven over medium-high heat, combine the water and beer (if using). Bring the liquid to a boil. Then season the boil with the Cajun seasoning, Old Bay seasoning, and a few dashes of hot sauce- to taste. Add the sliced onion and lemon wedges into the pot. Stir all the ingredients well to thoroughly combine. Let the mixture boil for 15 minutes.\\nAdd the andouille & potatoes. Carefully add the andouille sausage rounds and baby potatoes into the pot, stirring well to fully combine with the boil. Let the andouille and potatoes cook for 15-20 minutes- or until the potatoes are just about fork-tender.\\nAdd the seafood & corn. Gently nestle the snow crab clusters into the pot along with the shrimp and corn on the cob. Be sure that everything is fully submerged under the boil and carefully stir to ensure all ingredients are well combined. Continue boiling for another 5-7 minutes, cooking until the shrimp is pink. Meanwhile, prepare the garlic butter sauce.\\nMake the garlic butter sauce. On a separate burner, in a small saucepan over medium heat, combine the butter, garlic, lemon juice, Old Bay seasoning, parsley, Cajun seasoning, smoked paprika, and hot sauce- to taste. Stir all ingredients and simmer the sauce until the butter melts and the sauce is well combined, stirring often, about 5-7 minutes. Then remove from heat.\\nAssemble cajun seafood boil with sauce. Line an extra large baking sheet with foil/parchment paper (or newspaper if you’d like!). Use a spider strainer to remove the seafood boil contents from the pot and place onto the prepared baking sheet along with the hard boiled eggs (if using)- remove and discard the onion/lemon bits. Note: If you’d like your garlic butter sauce to be thinner, you can add some of the seafood boil broth to adjust to desired consistency. Now, this is the fun part! Pour the garlic butter sauce over the seafood boil ingredients. Then use your hands (fitted with disposable gloves if desired) to toss the sauce with everything, smothering every nook and cranny in sauce.\\nServe seafood boil. Feel free to serve this Cajun seafood boil as-is with everyone just grabbing what they’d like from the baking sheet directly (it’s the chaos and messiness of seafood boils that are so fun!) or divide the boil onto individual plates to serve if you prefer. Serve immediately with lemon wedges, if desired. Be sure to sop up any runaway garlic butter sauce. Enjoy!\\n\\n\\n\\nNotes\\n\\nPlease read blog post in its entirety for more tips + tricks.\\n\\n\\n\\nKeywords: seafood boil, garlic butter sauce, cajun seafood boil, crab and shrimp, andouille, best seafood boil, easy seafood boil\\n\\n\\n\\nDid you make this recipe?\\nTag @butterbeready on Instagram and hashtag it #butterbeready\\n\\n\\n\\n\""
      ]
     },
     "execution_count": 17,
     "metadata": {},
     "output_type": "execute_result"
    }
   ],
   "source": [
    "flatten_texts_from_url"
   ]
  },
  {
   "cell_type": "code",
   "execution_count": 18,
   "metadata": {},
   "outputs": [],
   "source": [
    "# instantiate openai client\n",
    "client = openai.OpenAI(api_key=os.getenv(\"OPENAI_API_KEY\"))"
   ]
  },
  {
   "cell_type": "code",
   "execution_count": 19,
   "metadata": {},
   "outputs": [
    {
     "name": "stdout",
     "output_type": "stream",
     "text": [
      "Assistant(id='asst_1VheFuNiBaFWHIuP3gBQAkPp', created_at=1699510971, description=None, file_ids=[], instructions='You are a helpful recipe summarizer. The user will give you raw texts taken from a recipe website, and you will analyze the texts and succinctly extract the recipe information, including ingredients and steps, presenting them in a clear and concise format.\\n\\nBe sure in your response to include measurements of each ingredient, so that the user knows how much each ingredient is needed.\\n\\nIgnore non recipe related texts, such as comments, picture captions, etc.\\n', metadata={}, model='gpt-4-1106-preview', name='Recipe Summarizer', object='assistant', tools=[])\n"
     ]
    }
   ],
   "source": [
    "# get recipe summarizer\n",
    "my_assistant = client.beta.assistants.retrieve(os.getenv(\"OPENAI_ASST_ID\"))\n",
    "print(my_assistant)"
   ]
  },
  {
   "cell_type": "code",
   "execution_count": 20,
   "metadata": {},
   "outputs": [
    {
     "name": "stdout",
     "output_type": "stream",
     "text": [
      "Thread(id='thread_rJdjhW5CivjvFURBOYdLRwpx', created_at=1699516101, metadata={}, object='thread')\n"
     ]
    }
   ],
   "source": [
    "# start thread\n",
    "thread = client.beta.threads.create()\n",
    "print(thread)"
   ]
  },
  {
   "cell_type": "code",
   "execution_count": 21,
   "metadata": {},
   "outputs": [],
   "source": [
    "# send user message\n",
    "message = client.beta.threads.messages.create(\n",
    "    thread_id=thread.id,\n",
    "    role=\"user\",\n",
    "    content=f\"Raw recipe tex: ```{flatten_texts_from_url}```\"\n",
    ")"
   ]
  },
  {
   "cell_type": "code",
   "execution_count": 22,
   "metadata": {},
   "outputs": [],
   "source": [
    "# run assistant\n",
    "run = client.beta.threads.runs.create(\n",
    "  thread_id=thread.id,\n",
    "  assistant_id=my_assistant.id,\n",
    ")"
   ]
  },
  {
   "cell_type": "code",
   "execution_count": 26,
   "metadata": {},
   "outputs": [],
   "source": [
    "# check run\n",
    "run = client.beta.threads.runs.retrieve(\n",
    "  thread_id=thread.id,\n",
    "  run_id=run.id\n",
    ")"
   ]
  },
  {
   "cell_type": "code",
   "execution_count": 27,
   "metadata": {},
   "outputs": [],
   "source": [
    "# get response\n",
    "messages = client.beta.threads.messages.list(\n",
    "  thread_id=thread.id\n",
    ")"
   ]
  },
  {
   "cell_type": "code",
   "execution_count": 29,
   "metadata": {},
   "outputs": [
    {
     "name": "stdout",
     "output_type": "stream",
     "text": [
      "Response from assistant: \n",
      "\n",
      "Assistant: ### Ingredients\n",
      "\n",
      "#### For the Cajun Seafood Boil:\n",
      "- 3 quarts water\n",
      "- 1 (12-ounce) can of beer (optional but recommended)\n",
      "- 3 tablespoons Cajun seasoning\n",
      "- 1 tablespoon Old Bay seasoning\n",
      "- Hot sauce, to taste\n",
      "- 1 medium yellow onion, roughly sliced into half-moons\n",
      "- 1 large lemon, cut into wedges (plus more for serving)\n",
      "- 12 ounces andouille sausage, sliced into rounds\n",
      "- 1 lb baby potatoes, red or gold (or a mix of both)\n",
      "- 1 lb pre-cooked snow crab leg clusters, fresh or frozen\n",
      "- 1 – 1 ½ lbs jumbo shrimp, shell-on or peeled\n",
      "- 4–6 ears sweet corn on the cob (mini ones recommended)\n",
      "- 4–6 hard-boiled eggs (optional)\n",
      "\n",
      "#### For the Garlic Butter Sauce:\n",
      "- 1 cup (2 sticks) unsalted butter\n",
      "- 10 cloves of garlic, finely minced or pressed\n",
      "- 2 tablespoons lemon juice, freshly squeezed\n",
      "- 1 tablespoon Old Bay seasoning\n",
      "- 1 tablespoon fresh chopped parsley\n",
      "- 1 teaspoon Cajun seasoning\n",
      "- 1 teaspoon smoked paprika\n",
      "- Hot sauce, to taste\n",
      "\n",
      "### Instructions\n",
      "\n",
      "1. **Prepare the Boil**: In an extra-large stockpot or Dutch oven over medium-high heat, combine water and beer. Bring to a boil and season with Cajun seasoning, Old Bay seasoning, and hot sauce. Add the onion slices and lemon wedges. Boil for 15 minutes.\n",
      "\n",
      "2. **Add Andouille & Potatoes**: Add andouille sausage and baby potatoes to the pot, stirring well. Cook for 15-20 minutes until potatoes are nearly fork-tender.\n",
      "\n",
      "3. **Add Seafood & Corn**: Place snow crab clusters, shrimp, and corn cobs into the pot, ensuring they're submerged. Boil for another 5-7 minutes until the shrimp is pink.\n",
      "\n",
      "4. **Make the Garlic Butter Sauce**: In a separate saucepan over medium heat, combine butter, garlic, lemon juice, Old Bay seasoning, parsley, Cajun seasoning, smoked paprika, and hot sauce. Simmer and stir until the butter is melted and sauce is combined, about 5-7 minutes, then remove from heat.\n",
      "\n",
      "5. **Assemble**: Line an extra-large baking sheet with foil or parchment paper. Remove seafood boil contents from the pot using a spider strainer, discarding onion and lemon remnants, and spread onto the sheet along with hard-boiled eggs (if using). Adjust garlic butter sauce thickness with broth if desired.\n",
      "\n",
      "6. **Serve**: Pour the garlic butter sauce over the ingredients on the baking sheet. Toss to coat everything in sauce. Serve immediately with additional lemon wedges, either directly from the sheet or on individual plates.\n",
      "\n",
      "Enjoy your homemade Cajun Seafood Boil!\n"
     ]
    }
   ],
   "source": [
    "# %% cell 13\n",
    "print(\"Response from assistant: \\n\")\n",
    "last_assistant_message = None\n",
    "for message in messages.data:\n",
    "    if message.role == \"assistant\":\n",
    "        last_assistant_message = message\n",
    "\n",
    "if last_assistant_message:\n",
    "    print(f\"Assistant: {last_assistant_message.content[0].text.value}\")"
   ]
  },
  {
   "cell_type": "code",
   "execution_count": null,
   "metadata": {},
   "outputs": [],
   "source": []
  }
 ],
 "metadata": {
  "kernelspec": {
   "display_name": "gptenv",
   "language": "python",
   "name": "python3"
  },
  "language_info": {
   "codemirror_mode": {
    "name": "ipython",
    "version": 3
   },
   "file_extension": ".py",
   "mimetype": "text/x-python",
   "name": "python",
   "nbconvert_exporter": "python",
   "pygments_lexer": "ipython3",
   "version": "3.10.2"
  }
 },
 "nbformat": 4,
 "nbformat_minor": 2
}
