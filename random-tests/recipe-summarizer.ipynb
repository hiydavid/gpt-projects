{
 "cells": [
  {
   "cell_type": "code",
   "execution_count": 1,
   "metadata": {},
   "outputs": [
    {
     "data": {
      "text/plain": [
       "True"
      ]
     },
     "execution_count": 1,
     "metadata": {},
     "output_type": "execute_result"
    }
   ],
   "source": [
    "# get libs\n",
    "import os\n",
    "import requests\n",
    "from bs4 import BeautifulSoup\n",
    "import openai\n",
    "from dotenv import load_dotenv, find_dotenv\n",
    "load_dotenv(find_dotenv())"
   ]
  },
  {
   "cell_type": "code",
   "execution_count": 28,
   "metadata": {},
   "outputs": [],
   "source": [
    "# set url\n",
    "# url = \"https://www.butterbeready.com/seafood-boil-with-garlic-butter-sauce/\"\n",
    "# url = \"https://www.spendwithpennies.com/wprm_print/215236\"\n",
    "url = \"https://www.butterbeready.com/seafood-boil-with-garlic-butter-sauce/print/41509/\""
   ]
  },
  {
   "cell_type": "code",
   "execution_count": 29,
   "metadata": {},
   "outputs": [
    {
     "name": "stdout",
     "output_type": "stream",
     "text": [
      "Status code: 200\n"
     ]
    }
   ],
   "source": [
    "# get texts\n",
    "headers = {\n",
    "    'User-Agent': 'Mozilla/5.0 (Windows NT 10.0; Win64; x64) AppleWebKit/537.36 (KHTML, like Gecko) Chrome/58.0.3029.110 Safari/537.3'\n",
    "}\n",
    "response = requests.get(url, headers=headers)\n",
    "if response.status_code == 200:\n",
    "    soup = BeautifulSoup(response.content, 'html.parser')\n",
    "    paragraphs = soup.find_all('p')\n",
    "    lists = soup.find_all(['ul', 'ol'])\n",
    "    list_items = []\n",
    "    for lst in lists:\n",
    "        items = lst.find_all('li')\n",
    "        for item in items:\n",
    "            list_items.append(item.get_text())\n",
    "\n",
    "    print(f\"Status code: {response.status_code}\")\n",
    "else:\n",
    "    print(f\"Failed to retrieve the webpage. Status code: {response.status_code}\")"
   ]
  },
  {
   "cell_type": "code",
   "execution_count": 30,
   "metadata": {},
   "outputs": [],
   "source": [
    "# extract and print the text from each paragraph\n",
    "texts_from_url = []\n",
    "\n",
    "for p in paragraphs:\n",
    "    texts_from_url.append(p.get_text())\n",
    "\n",
    "for l in list_items:\n",
    "    texts_from_url.append(l)"
   ]
  },
  {
   "cell_type": "code",
   "execution_count": 31,
   "metadata": {},
   "outputs": [],
   "source": [
    "# flatten\n",
    "flatten_texts_from_url = ' '.join(texts_from_url)"
   ]
  },
  {
   "cell_type": "code",
   "execution_count": 32,
   "metadata": {},
   "outputs": [
    {
     "data": {
      "text/plain": [
       "'This is the BEST Seafood Boil recipe you can whip up right at home, y’all. It’s loaded with jumbo shrimp, crab, andouille sausage, potatoes, eggs, and corn on the cob that’s simmered in a flavor-filled broth of Cajun spices and aromatics. All that hearty goodness gets drowned and smothered in an epic garlic butter sauce. This finger-licking-good seafood boil recipe is an easy meal that serves a crowd! For the cajun seafood boil: For the garlic butter sauce: Keywords: seafood boil, garlic butter sauce, cajun seafood boil, crab and shrimp, andouille, best seafood boil, easy seafood boil Tag @butterbeready on Instagram and hashtag it #butterbeready Find it online: https://www.butterbeready.com/seafood-boil-with-garlic-butter-sauce/ \\n\\t\\t\\t\\t\\t\\t\\t\\t\\t\\t\\t\\t\\tAuthor: Quin Liburd \\n\\n\\t\\t\\t\\t\\t\\t\\t\\t\\t\\t\\t\\t\\t\\t\\tPrep Time: 15 minutes \\n\\n\\t\\t\\t\\t\\t\\t\\t\\t\\t\\t\\t\\t\\t\\t\\tCook Time: 40 minutes \\n\\n\\t\\t\\t\\t\\t\\t\\t\\t\\t\\t\\t\\t\\t\\t\\tTotal Time: 55 minutes \\n\\n\\t\\t\\t\\t\\t\\t\\t\\t\\t\\t\\t\\t\\t\\t\\tYield: 6 1x \\n\\n\\t\\t\\t\\t\\t\\t\\t\\t\\t\\t\\t\\t\\t\\t\\tCategory: Main Dishes \\n\\n\\t\\t\\t\\t\\t\\t\\t\\t\\t\\t\\t\\t\\t\\t\\tMethod: Stovetop \\n\\n\\t\\t\\t\\t\\t\\t\\t\\t\\t\\t\\t\\t\\t\\t\\tCuisine: Southern 3 quarts water 1 (12-ounce) can of beer- optional but highly recommended 3 tablespoons Cajun seasoning 1 tablespoon Old Bay seasoning Hot sauce, to taste 1 medium yellow onion, roughly sliced into half-moons 1 large lemon, cut into wedges- plus more for serving 12 ounces andouille sausage, sliced into rounds 1 lb baby potatoes, red or gold (or a mix of both) 1 lb pre-cooked snow crab leg clusters, fresh or frozen 1 – 1 ½ lbs jumbo shrimp, shell-on or peeled 4–6 ears sweet corn on the cob, I use the mini ones 4–6 hard boiled eggs- optional 1 cup (2 sticks) unsalted butter 10 cloves of garlic, finely minced or pressed 2 tablespoons lemon juice, freshly squeezed 1 tablespoon Old Bay seasoning 1 tablespoon fresh chopped parsley 1 teaspoon Cajun seasoning 1 teaspoon smoked paprika Hot sauce, to taste Prepare the boil. In an extra large stockpot or dutch oven over medium-high heat, combine the water and beer (if using). Bring the liquid to a boil. Then season the boil with the Cajun seasoning, Old Bay seasoning, and a few dashes of hot sauce- to taste. Add the sliced onion and lemon wedges into the pot. Stir all the ingredients well to thoroughly combine. Let the mixture boil for 15 minutes. Add the andouille & potatoes. Carefully add the andouille sausage rounds and baby potatoes into the pot, stirring well to fully combine with the boil. Let the andouille and potatoes cook for 15-20 minutes- or until the potatoes are just about fork-tender. Add the seafood & corn. Gently nestle the snow crab clusters into the pot along with the shrimp and corn on the cob. Be sure that everything is fully submerged under the boil and carefully stir to ensure all ingredients are well combined. Continue boiling for another 5-7 minutes, cooking until the shrimp is pink. Meanwhile, prepare the garlic butter sauce. Make the garlic butter sauce. On a separate burner, in a small saucepan over medium heat, combine the butter, garlic, lemon juice, Old Bay seasoning, parsley, Cajun seasoning, smoked paprika, and hot sauce- to taste. Stir all ingredients and simmer the sauce until the butter melts and the sauce is well combined, stirring often, about 5-7 minutes. Then remove from heat. Assemble cajun seafood boil with sauce. Line an extra large baking sheet with foil/parchment paper (or newspaper if you’d like!). Use a spider strainer to remove the seafood boil contents from the pot and place onto the prepared baking sheet along with the hard boiled eggs (if using)- remove and discard the onion/lemon bits. Note: If you’d like your garlic butter sauce to be thinner, you can add some of the seafood boil broth to adjust to desired consistency. Now, this is the fun part! Pour the garlic butter sauce over the seafood boil ingredients. Then use your hands (fitted with disposable gloves if desired) to toss the sauce with everything, smothering every nook and cranny in sauce. Serve seafood boil. Feel free to serve this Cajun seafood boil as-is with everyone just grabbing what they’d like from the baking sheet directly (it’s the chaos and messiness of seafood boils that are so fun!) or divide the boil onto individual plates to serve if you prefer. Serve immediately with lemon wedges, if desired. Be sure to sop up any runaway garlic butter sauce. Enjoy! Please read blog post in its entirety for more tips + tricks.'"
      ]
     },
     "execution_count": 32,
     "metadata": {},
     "output_type": "execute_result"
    }
   ],
   "source": [
    "flatten_texts_from_url"
   ]
  },
  {
   "cell_type": "code",
   "execution_count": 33,
   "metadata": {},
   "outputs": [],
   "source": [
    "# instantiate openai client\n",
    "client = openai.OpenAI(api_key=os.getenv(\"OPENAI_API_KEY\"))"
   ]
  },
  {
   "cell_type": "code",
   "execution_count": 34,
   "metadata": {},
   "outputs": [
    {
     "name": "stdout",
     "output_type": "stream",
     "text": [
      "Assistant(id='asst_1VheFuNiBaFWHIuP3gBQAkPp', created_at=1699510971, description=None, file_ids=[], instructions='You are a helpful recipe summarizer. The user will give you raw texts taken from a recipe website, and you will analyze the texts and succinctly extract the recipe information, including ingredients and steps, presenting them in a clear and concise format.\\n\\nBe sure in your response to include measurements of each ingredient, so that the user knows how much each ingredient is needed.\\n\\nIgnore non recipe related texts, such as comments, picture captions, etc.\\n', metadata={}, model='gpt-4-1106-preview', name='Recipe Summarizer', object='assistant', tools=[])\n"
     ]
    }
   ],
   "source": [
    "# get recipe summarizer\n",
    "my_assistant = client.beta.assistants.retrieve(os.getenv(\"OPENAI_ASST_ID\"))\n",
    "print(my_assistant)"
   ]
  },
  {
   "cell_type": "code",
   "execution_count": 35,
   "metadata": {},
   "outputs": [
    {
     "name": "stdout",
     "output_type": "stream",
     "text": [
      "Thread(id='thread_ck3BdVZ1YyVfvGo9xAAPdihk', created_at=1699515103, metadata={}, object='thread')\n"
     ]
    }
   ],
   "source": [
    "# start thread\n",
    "thread = client.beta.threads.create()\n",
    "print(thread)"
   ]
  },
  {
   "cell_type": "code",
   "execution_count": 36,
   "metadata": {},
   "outputs": [],
   "source": [
    "# send user message\n",
    "message = client.beta.threads.messages.create(\n",
    "    thread_id=thread.id,\n",
    "    role=\"user\",\n",
    "    content=f\"Raw recipe tex: ```{flatten_texts_from_url}```\"\n",
    ")"
   ]
  },
  {
   "cell_type": "code",
   "execution_count": 37,
   "metadata": {},
   "outputs": [],
   "source": [
    "# run assistant\n",
    "run = client.beta.threads.runs.create(\n",
    "  thread_id=thread.id,\n",
    "  assistant_id=my_assistant.id,\n",
    ")"
   ]
  },
  {
   "cell_type": "code",
   "execution_count": 44,
   "metadata": {},
   "outputs": [],
   "source": [
    "# check run\n",
    "run = client.beta.threads.runs.retrieve(\n",
    "  thread_id=thread.id,\n",
    "  run_id=run.id\n",
    ")"
   ]
  },
  {
   "cell_type": "code",
   "execution_count": 45,
   "metadata": {},
   "outputs": [],
   "source": [
    "# get response\n",
    "messages = client.beta.threads.messages.list(\n",
    "  thread_id=thread.id\n",
    ")"
   ]
  },
  {
   "cell_type": "code",
   "execution_count": 46,
   "metadata": {},
   "outputs": [
    {
     "name": "stdout",
     "output_type": "stream",
     "text": [
      "Response from assistant:\n",
      "Assistant: ### Cajun Seafood Boil with Garlic Butter Sauce\n",
      "\n",
      "#### Ingredients for the Cajun Seafood Boil:\n",
      "- 3 quarts water\n",
      "- 1 (12-ounce) can of beer (optional but recommended)\n",
      "- 3 tablespoons Cajun seasoning\n",
      "- 1 tablespoon Old Bay seasoning\n",
      "- Hot sauce, to taste\n",
      "- 1 medium yellow onion, roughly sliced into half-moons\n",
      "- 1 large lemon, cut into wedges, plus more for serving\n",
      "- 12 ounces andouille sausage, sliced into rounds\n",
      "- 1 lb baby potatoes, red or gold (or a mix)\n",
      "- 1 lb pre-cooked snow crab leg clusters, fresh or frozen\n",
      "- 1 – 1 ½ lbs jumbo shrimp, shell-on or peeled\n",
      "- 4–6 ears sweet corn on the cob (mini ones preferred)\n",
      "- 4–6 hard boiled eggs (optional)\n",
      "\n",
      "#### Ingredients for the Garlic Butter Sauce:\n",
      "- 1 cup (2 sticks) unsalted butter\n",
      "- 10 cloves of garlic, finely minced or pressed\n",
      "- 2 tablespoons lemon juice, freshly squeezed\n",
      "- 1 tablespoon Old Bay seasoning\n",
      "- 1 tablespoon fresh chopped parsley\n",
      "- 1 teaspoon Cajun seasoning\n",
      "- 1 teaspoon smoked paprika\n",
      "- Hot sauce, to taste\n",
      "\n",
      "#### Instructions:\n",
      "1. **Prepare the boil:** In an extra-large stockpot or Dutch oven over medium-high heat, combine the water and beer (if using). Bring to a boil and season with Cajun seasoning, Old Bay seasoning, and hot sauce. Add the sliced onion and lemon wedges, and boil for 15 minutes.\n",
      "   \n",
      "2. **Add andouille & potatoes:** Add the andouille sausage rounds and baby potatoes to the pot, stirring well. Cook for 15-20 minutes or until the potatoes are near fork-tender.\n",
      "\n",
      "3. **Add the seafood & corn:** Place the snow crab clusters, shrimp, and corn on the cob into the pot, ensuring everything is submerged. Continue boiling for another 5-7 minutes until the shrimp turns pink.\n",
      "\n",
      "4. **Make the garlic butter sauce:** In a separate saucepan over medium heat, combine the butter, minced garlic, lemon juice, Old Bay seasoning, parsley, Cajun seasoning, smoked paprika, and hot sauce. Simmer, stirring often, until the butter melts and the sauce is well combined, about 5-7 minutes. Remove from heat.\n",
      "\n",
      "5. **Assemble the seafood boil with sauce:** Line an extra-large baking sheet with foil or parchment paper. Use a spider strainer to transfer the seafood boil contents to the baking sheet, discarding onion and lemon remnants. Optionally, thin the garlic butter sauce with some of the boil broth.\n",
      "\n",
      "6. **Pour the garlic butter sauce over the seafood boil ingredients on the baking sheet.** Toss everything with the sauce, covering all pieces well.\n",
      "\n",
      "7. **Serve the seafood boil:** Serve directly from the baking sheet for a casual experience or divide onto individual plates. Offer additional lemon wedges and enjoy immediately, making sure to sop up any extra garlic butter sauce.\n"
     ]
    }
   ],
   "source": [
    "# %% cell 13\n",
    "print(\"Response from assistant:\")\n",
    "last_assistant_message = None\n",
    "for message in messages.data:\n",
    "    if message.role == \"assistant\":\n",
    "        last_assistant_message = message\n",
    "\n",
    "if last_assistant_message:\n",
    "    print(f\"Assistant: {last_assistant_message.content[0].text.value}\")"
   ]
  },
  {
   "cell_type": "code",
   "execution_count": null,
   "metadata": {},
   "outputs": [],
   "source": []
  }
 ],
 "metadata": {
  "kernelspec": {
   "display_name": "gptenv",
   "language": "python",
   "name": "python3"
  },
  "language_info": {
   "codemirror_mode": {
    "name": "ipython",
    "version": 3
   },
   "file_extension": ".py",
   "mimetype": "text/x-python",
   "name": "python",
   "nbconvert_exporter": "python",
   "pygments_lexer": "ipython3",
   "version": "3.10.2"
  }
 },
 "nbformat": 4,
 "nbformat_minor": 2
}
